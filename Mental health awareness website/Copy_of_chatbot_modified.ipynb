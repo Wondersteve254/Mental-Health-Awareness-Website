{
  "cells": [
    {
      "cell_type": "markdown",
      "metadata": {
        "id": "view-in-github",
        "colab_type": "text"
      },
      "source": [
        "<a href=\"https://colab.research.google.com/github/Dorineoloo/Chat-Bot/blob/main/Copy_of_chatbot_modified.ipynb\" target=\"_parent\"><img src=\"https://colab.research.google.com/assets/colab-badge.svg\" alt=\"Open In Colab\"/></a>"
      ]
    },
    {
      "cell_type": "code",
      "execution_count": null,
      "metadata": {
        "colab": {
          "base_uri": "https://localhost:8080/"
        },
        "id": "uzZon6FhsyJc",
        "outputId": "46d5a35c-8c1d-4300-a8c4-c21db85693c5"
      },
      "outputs": [
        {
          "output_type": "stream",
          "name": "stderr",
          "text": [
            "[nltk_data] Downloading package punkt to /root/nltk_data...\n",
            "[nltk_data]   Unzipping tokenizers/punkt.zip.\n"
          ]
        }
      ],
      "source": [
        "# Things we need for NLP\n",
        "import nltk #Natural Language Processing Tool Kit\n",
        "nltk.download('punkt')\n",
        "from nltk.stem.lancaster import LancasterStemmer\n",
        "stemmer = LancasterStemmer()\n",
        "\n",
        "# Things we need for Tensorflow\n",
        "import tensorflow as tf\n",
        "import numpy as np\n",
        "import random"
      ]
    },
    {
      "cell_type": "code",
      "execution_count": null,
      "metadata": {
        "id": "prf7bCb-s8I7"
      },
      "outputs": [],
      "source": [
        "! pip install tflearn"
      ]
    },
    {
      "cell_type": "code",
      "execution_count": null,
      "metadata": {
        "colab": {
          "base_uri": "https://localhost:8080/"
        },
        "id": "D8leV3TNs-Rn",
        "outputId": "813919f8-e78a-4d16-8912-44ffb783a008"
      },
      "outputs": [
        {
          "output_type": "stream",
          "name": "stderr",
          "text": [
            "WARNING:tensorflow:From /usr/local/lib/python3.7/dist-packages/tensorflow/python/compat/v2_compat.py:107: disable_resource_variables (from tensorflow.python.ops.variable_scope) is deprecated and will be removed in a future version.\n",
            "Instructions for updating:\n",
            "non-resource variables are not supported in the long term\n"
          ]
        }
      ],
      "source": [
        "import tflearn"
      ]
    },
    {
      "cell_type": "code",
      "execution_count": null,
      "metadata": {
        "colab": {
          "base_uri": "https://localhost:8080/",
          "height": 576
        },
        "id": "BHMRkDSbtA12",
        "outputId": "be01cb14-213a-4364-b177-f2888c8a04c6"
      },
      "outputs": [
        {
          "output_type": "display_data",
          "data": {
            "text/plain": [
              "<IPython.core.display.HTML object>"
            ],
            "text/html": [
              "\n",
              "     <input type=\"file\" id=\"files-ba93ebb7-2b29-4d84-bbf3-7f007355c363\" name=\"files[]\" multiple disabled\n",
              "        style=\"border:none\" />\n",
              "     <output id=\"result-ba93ebb7-2b29-4d84-bbf3-7f007355c363\">\n",
              "      Upload widget is only available when the cell has been executed in the\n",
              "      current browser session. Please rerun this cell to enable.\n",
              "      </output>\n",
              "      <script>// Copyright 2017 Google LLC\n",
              "//\n",
              "// Licensed under the Apache License, Version 2.0 (the \"License\");\n",
              "// you may not use this file except in compliance with the License.\n",
              "// You may obtain a copy of the License at\n",
              "//\n",
              "//      http://www.apache.org/licenses/LICENSE-2.0\n",
              "//\n",
              "// Unless required by applicable law or agreed to in writing, software\n",
              "// distributed under the License is distributed on an \"AS IS\" BASIS,\n",
              "// WITHOUT WARRANTIES OR CONDITIONS OF ANY KIND, either express or implied.\n",
              "// See the License for the specific language governing permissions and\n",
              "// limitations under the License.\n",
              "\n",
              "/**\n",
              " * @fileoverview Helpers for google.colab Python module.\n",
              " */\n",
              "(function(scope) {\n",
              "function span(text, styleAttributes = {}) {\n",
              "  const element = document.createElement('span');\n",
              "  element.textContent = text;\n",
              "  for (const key of Object.keys(styleAttributes)) {\n",
              "    element.style[key] = styleAttributes[key];\n",
              "  }\n",
              "  return element;\n",
              "}\n",
              "\n",
              "// Max number of bytes which will be uploaded at a time.\n",
              "const MAX_PAYLOAD_SIZE = 100 * 1024;\n",
              "\n",
              "function _uploadFiles(inputId, outputId) {\n",
              "  const steps = uploadFilesStep(inputId, outputId);\n",
              "  const outputElement = document.getElementById(outputId);\n",
              "  // Cache steps on the outputElement to make it available for the next call\n",
              "  // to uploadFilesContinue from Python.\n",
              "  outputElement.steps = steps;\n",
              "\n",
              "  return _uploadFilesContinue(outputId);\n",
              "}\n",
              "\n",
              "// This is roughly an async generator (not supported in the browser yet),\n",
              "// where there are multiple asynchronous steps and the Python side is going\n",
              "// to poll for completion of each step.\n",
              "// This uses a Promise to block the python side on completion of each step,\n",
              "// then passes the result of the previous step as the input to the next step.\n",
              "function _uploadFilesContinue(outputId) {\n",
              "  const outputElement = document.getElementById(outputId);\n",
              "  const steps = outputElement.steps;\n",
              "\n",
              "  const next = steps.next(outputElement.lastPromiseValue);\n",
              "  return Promise.resolve(next.value.promise).then((value) => {\n",
              "    // Cache the last promise value to make it available to the next\n",
              "    // step of the generator.\n",
              "    outputElement.lastPromiseValue = value;\n",
              "    return next.value.response;\n",
              "  });\n",
              "}\n",
              "\n",
              "/**\n",
              " * Generator function which is called between each async step of the upload\n",
              " * process.\n",
              " * @param {string} inputId Element ID of the input file picker element.\n",
              " * @param {string} outputId Element ID of the output display.\n",
              " * @return {!Iterable<!Object>} Iterable of next steps.\n",
              " */\n",
              "function* uploadFilesStep(inputId, outputId) {\n",
              "  const inputElement = document.getElementById(inputId);\n",
              "  inputElement.disabled = false;\n",
              "\n",
              "  const outputElement = document.getElementById(outputId);\n",
              "  outputElement.innerHTML = '';\n",
              "\n",
              "  const pickedPromise = new Promise((resolve) => {\n",
              "    inputElement.addEventListener('change', (e) => {\n",
              "      resolve(e.target.files);\n",
              "    });\n",
              "  });\n",
              "\n",
              "  const cancel = document.createElement('button');\n",
              "  inputElement.parentElement.appendChild(cancel);\n",
              "  cancel.textContent = 'Cancel upload';\n",
              "  const cancelPromise = new Promise((resolve) => {\n",
              "    cancel.onclick = () => {\n",
              "      resolve(null);\n",
              "    };\n",
              "  });\n",
              "\n",
              "  // Wait for the user to pick the files.\n",
              "  const files = yield {\n",
              "    promise: Promise.race([pickedPromise, cancelPromise]),\n",
              "    response: {\n",
              "      action: 'starting',\n",
              "    }\n",
              "  };\n",
              "\n",
              "  cancel.remove();\n",
              "\n",
              "  // Disable the input element since further picks are not allowed.\n",
              "  inputElement.disabled = true;\n",
              "\n",
              "  if (!files) {\n",
              "    return {\n",
              "      response: {\n",
              "        action: 'complete',\n",
              "      }\n",
              "    };\n",
              "  }\n",
              "\n",
              "  for (const file of files) {\n",
              "    const li = document.createElement('li');\n",
              "    li.append(span(file.name, {fontWeight: 'bold'}));\n",
              "    li.append(span(\n",
              "        `(${file.type || 'n/a'}) - ${file.size} bytes, ` +\n",
              "        `last modified: ${\n",
              "            file.lastModifiedDate ? file.lastModifiedDate.toLocaleDateString() :\n",
              "                                    'n/a'} - `));\n",
              "    const percent = span('0% done');\n",
              "    li.appendChild(percent);\n",
              "\n",
              "    outputElement.appendChild(li);\n",
              "\n",
              "    const fileDataPromise = new Promise((resolve) => {\n",
              "      const reader = new FileReader();\n",
              "      reader.onload = (e) => {\n",
              "        resolve(e.target.result);\n",
              "      };\n",
              "      reader.readAsArrayBuffer(file);\n",
              "    });\n",
              "    // Wait for the data to be ready.\n",
              "    let fileData = yield {\n",
              "      promise: fileDataPromise,\n",
              "      response: {\n",
              "        action: 'continue',\n",
              "      }\n",
              "    };\n",
              "\n",
              "    // Use a chunked sending to avoid message size limits. See b/62115660.\n",
              "    let position = 0;\n",
              "    do {\n",
              "      const length = Math.min(fileData.byteLength - position, MAX_PAYLOAD_SIZE);\n",
              "      const chunk = new Uint8Array(fileData, position, length);\n",
              "      position += length;\n",
              "\n",
              "      const base64 = btoa(String.fromCharCode.apply(null, chunk));\n",
              "      yield {\n",
              "        response: {\n",
              "          action: 'append',\n",
              "          file: file.name,\n",
              "          data: base64,\n",
              "        },\n",
              "      };\n",
              "\n",
              "      let percentDone = fileData.byteLength === 0 ?\n",
              "          100 :\n",
              "          Math.round((position / fileData.byteLength) * 100);\n",
              "      percent.textContent = `${percentDone}% done`;\n",
              "\n",
              "    } while (position < fileData.byteLength);\n",
              "  }\n",
              "\n",
              "  // All done.\n",
              "  yield {\n",
              "    response: {\n",
              "      action: 'complete',\n",
              "    }\n",
              "  };\n",
              "}\n",
              "\n",
              "scope.google = scope.google || {};\n",
              "scope.google.colab = scope.google.colab || {};\n",
              "scope.google.colab._files = {\n",
              "  _uploadFiles,\n",
              "  _uploadFilesContinue,\n",
              "};\n",
              "})(self);\n",
              "</script> "
            ]
          },
          "metadata": {}
        },
        {
          "output_type": "stream",
          "name": "stdout",
          "text": [
            "Saving intents.json to intents.json\n"
          ]
        },
        {
          "output_type": "execute_result",
          "data": {
            "text/plain": [
              "{'intents.json': b'{\"intents\":[\\r\\n    {\\r\\n        \"tag\": \"greeting\",\\r\\n        \"patterns\": [\"Hi\", \"Hey\", \"Hello\", \"How are you?\", \"Good day\", \"Is anyone there?\"],\\r\\n        \"responses\": [\"Hello, thanks for visiting\", \"Good to see you again\", \"Hi there, how can I help you?\"],\\r\\n        \"context_set\": \"\"\\r\\n    },\\r\\n    {\\r\\n        \"tag\": \"goodbye\",\\r\\n        \"patterns\": [\"Bye\", \"Goodbye\", \"See you later\"],\\r\\n        \"responses\": [\"See you later, thanks for visiting\", \"Have a nice day\", \"Bye! Come back again soon.\"]\\r\\n    },\\r\\n    {\\r\\n        \"tag\": \"thanks\",\\r\\n        \"patterns\": [\"Thanks\", \"Thank you\", \"That\\'s helpful\"],\\r\\n        \"responses\": [\"Happy to help\", \"You\\'re welcome always\", \"Anytime\", \"My pleasure\"]   \\r\\n    },\\r\\n    {\\r\\n        \"tag\": \"hours\",\\r\\n        \"patterns\": [\"What hours are you open?\", \"What are your hours?\", \"When are you open?\" ],\\r\\n        \"responses\": [\"We\\'re open every week day 8am-5pm\", \"Our hours are 8am-5pm for week days\"]\\r\\n    },\\r\\n    {\\r\\n        \"tag\": \"respondus\",\\r\\n        \"patterns\": [\"What is lockdown-browser?\", \"Why lockdown browser?\", \"What is respondus?\"],\\r\\n        \"responses\": [\"LockDown Browser\\xc2\\xae is a custom browser that locks down the testing environment within a learning management system.\", \"LockDown Browser is the \\xe2\\x80\\x9cgold standard\\xe2\\x80\\x9d for securing online exams in classrooms or proctored environments.\"]\\r\\n    },\\r\\n    {\\r\\n        \"tag\": \"moodlelogin\",\\r\\n        \"patterns\": [\"I cannot login to moodle\", \"my moodle is not working\"],\\r\\n        \"responses\": [\"Please reset your password and check your school email\"]\\r\\n    },\\r\\n    {\\r\\n        \"tag\": \"zoom\",\\r\\n        \"patterns\":[\"I am not able to join a meeting\"],\\r\\n        \"responses\":[\"Use the email address that you registered with the zoom invitation to join the meeting\"]\\r\\n    \\r\\n    },\\r\\n    {\\r\\n        \"tag\":\"student portal\",\\r\\n        \"patterns\":[\"I cannot login to the student portal\",\"I cannot access my student portal\"],\\r\\n        \"responses\":[\"reset your password\"]\\r\\n        \\r\\n    },\\r\\n    {\\r\\n        \"tag\":\"email\",\\r\\n        \"patterns\":[\"Email problem\", \"cant login\"],\\r\\n        \"responses\":[\"credentials registration number\" ,\"share phone number\"]\\r\\n    },\\r\\n    {\\r\\n        \"tag\":\"contact Kabuo\",\\r\\n        \"patterns\":[\"How can I log into moodle\", \"where do I access the moodle link to the platform,what do I use to log in\"],\\r\\n        \"responses\":[\"call Joshua(0724324503)\",\"call Nichodemus(0708435257)\",\"email studentsupport@kabarak.ac.ke\"]\\r\\n    },\\r\\n    {\\r\\n        \"tag\":\"installing lockdown browser\",\\r\\n        \"patterns\":[\"How do I install lock down browser?\" ,\"How do I get a link to install lockdown browser?\"],\\r\\n        \"responses\":[\"use tthe following link:https://download.respondus.com/lockdown/download.php?id=752\"]\\r\\n    },\\r\\n    {\\r\\n        \"tag\":\"launching lockdown browser\",\\r\\n        \"patterns\":[\"How do I launch lockdown browser ?\",\"Do I launch lock down browser in an new browser?\"],\\r\\n        \"responses\":[\"Log into your moodle account using another browser and launch the lockdown browserLaunch in another browser\",\"launch in another browser\"]\\r\\n    },\\r\\n    {\\r\\n        \"tag\":\"challenges when connecting to lockdown browser exams\",\\r\\n        \"patterns\":[\"Error sending exam start notification\", \"unable to continue with exam\",\"Error in lock down exam ,Error in exams\"],\\r\\n        \"responses\":[\"Check your internet connection\",\"get an alternative connection\",\"Buy bundles\" ,\"Restart your router\" ,\"Check with your service provider \"]\\r\\n    },\\r\\n    {\\r\\n        \"tag\":\"connection server blocked\",\\r\\n        \"patterns\":[\"Update server is not supplying information\", \"or the connection to update server is blocked\",\"I have a server blocked problem\" ,\"Server blocked\" ,\"My lockdown browser is hanging\"],\\r\\n        \"responses\":[\"Check your antivirus software\",\"Disable the setting blocking the Lockdown server\",\"Disable windows defender\",\"Uninstall antivirus \"]\\r\\n    },\\r\\n    {\\r\\n        \"tag\":\"video connection timed out\",\\r\\n        \"patterns\":[\"My video is hanging\" ,\"Connection has timed out\" ,\"I cannot navigate though lockdown browser page\" ,\"my lockdown browser page is stuck \"],\\r\\n        \"responses\":[\"Restart your lock down browser\" ,\"Refresh the lockdown browser page\" ,\"Check your internet connection \",\"Change your internet connection\" ,\"Restart your computer \"]\\r\\n    }\\r\\n\\r\\n\\r\\n]}'}"
            ]
          },
          "metadata": {},
          "execution_count": 4
        }
      ],
      "source": [
        "from google.colab import files\n",
        "files.upload()"
      ]
    },
    {
      "cell_type": "code",
      "execution_count": null,
      "metadata": {
        "id": "BjvVsC7YtDlT"
      },
      "outputs": [],
      "source": [
        "# Import our chatbot intents file\n",
        "import json\n",
        "with open('intents.json') as json_data:\n",
        "  intents = json.load(json_data)"
      ]
    },
    {
      "cell_type": "code",
      "execution_count": null,
      "metadata": {
        "colab": {
          "base_uri": "https://localhost:8080/"
        },
        "id": "lcanLtjKtIDw",
        "outputId": "541802cb-07bb-41f2-9a87-d1cebd271ec2"
      },
      "outputs": [
        {
          "output_type": "stream",
          "name": "stdout",
          "text": [
            "43 documents\n",
            "15 classes ['challenges when connecting to lockdown browser exams', 'connection server blocked', 'contact Kabuo', 'email', 'goodbye', 'greeting', 'hours', 'installing lockdown browser', 'launching lockdown browser', 'moodlelogin', 'respondus', 'student portal', 'thanks', 'video connection timed out', 'zoom']\n",
            "89 unique stemmed words [\"'s\", ',', 'a', 'abl', 'access', 'am', 'an', 'anyon', 'ar', 'block', 'brows', 'bye', 'can', 'cant', 'connect', 'continu', 'day', 'do', 'down', 'email', 'er', 'exam', 'get', 'good', 'goodby', 'hang', 'has', 'hav', 'hello', 'help', 'hey', 'hi', 'hour', 'how', 'i', 'in', 'inform', 'instal', 'into', 'is', 'join', 'lat', 'launch', 'link', 'lock', 'lockdown', 'lockdown-browser', 'log', 'login', 'meet', 'moodl', 'my', 'navig', 'new', 'not', 'op', 'or', 'out', 'pag', 'platform', 'port', 'problem', 'respond', 'see', 'send', 'serv', 'start', 'stuck', 'stud', 'supply', 'thank', 'that', 'the', 'ther', 'though', 'tim', 'to', 'un', 'upd', 'us', 'video', 'what', 'when', 'wher', 'why', 'with', 'work', 'yo', 'you']\n"
          ]
        }
      ],
      "source": [
        "from nltk.corpus.reader import documents\n",
        "words = []\n",
        "classes = []\n",
        "documents = []\n",
        "ignore_words = ['?']\n",
        "\n",
        "# looping through each sentence in our intents patterns\n",
        "for intent in intents['intents']:\n",
        "  for pattern in intent['patterns']:\n",
        "    # tokenization\n",
        "    w = nltk.word_tokenize(pattern)\n",
        "    # add to our words list\n",
        "    words.extend(w)\n",
        "    # add to documents in our corpus\n",
        "    documents.append((w, intent['tag']))\n",
        "    # add to our classes list\n",
        "    if intent['tag'] not in classes:\n",
        "        classes.append(intent['tag'])\n",
        "\n",
        "\n",
        "# stem and lower each word and remove duplicates\n",
        "words = [stemmer.stem(w.lower()) for w in words if w not in ignore_words]\n",
        "words = sorted(list(set(words)))\n",
        "\n",
        "# remove duplicate classes\n",
        "classes = sorted(list(set(classes)))\n",
        "\n",
        "print(len(documents), \"documents\")\n",
        "print(len(classes), \"classes\", classes)\n",
        "print(len(words), \"unique stemmed words\", words)"
      ]
    },
    {
      "cell_type": "code",
      "execution_count": null,
      "metadata": {
        "colab": {
          "base_uri": "https://localhost:8080/"
        },
        "id": "8Ur7BDWRtN0Y",
        "outputId": "1b4852e0-819e-4d62-d607-de3a51aba991"
      },
      "outputs": [
        {
          "output_type": "stream",
          "name": "stderr",
          "text": [
            "/usr/local/lib/python3.7/dist-packages/ipykernel_launcher.py:27: VisibleDeprecationWarning: Creating an ndarray from ragged nested sequences (which is a list-or-tuple of lists-or-tuples-or ndarrays with different lengths or shapes) is deprecated. If you meant to do this, you must specify 'dtype=object' when creating the ndarray.\n"
          ]
        }
      ],
      "source": [
        "# create our training data\n",
        "training = []\n",
        "output = []\n",
        "# create an empty array for our output\n",
        "output_empty = [0] * len(classes)\n",
        "\n",
        "# training set, bag of words for each sentence\n",
        "for doc in documents:\n",
        "  # initialize bag of words\n",
        "  bag = []\n",
        "  # create list for tokenized words for the patterns\n",
        "  pattern_words = doc[0]\n",
        "  # stem each word \n",
        "  pattern_words = [stemmer.stem(word.lower()) for word in pattern_words]\n",
        "  # create our bag of words array\n",
        "  for w in words:\n",
        "    bag.append(1) if w in pattern_words else bag.append(0)\n",
        "  \n",
        "  # output is a '0' for each tag and '1' for current tag\n",
        "  output_row = list(output_empty)\n",
        "  output_row[classes.index(doc[1])] = 1\n",
        "\n",
        "  training.append([bag, output_row])\n",
        "\n",
        "# shuffle our features to numpy array\n",
        "random.shuffle(training)\n",
        "training = np.array(training)\n",
        "\n",
        "# create train and test lists\n",
        "train_x = list(training[:,0])\n",
        "train_y = list(training[:,1])\n"
      ]
    },
    {
      "cell_type": "code",
      "execution_count": null,
      "metadata": {
        "id": "tqrmgbPBtVO6"
      },
      "outputs": [],
      "source": [
        "# save all of your data structures\n",
        "import pickle\n",
        "pickle.dump( {'words':words, 'classes':classes, 'train_x':train_x, 'train_y':train_y}, open(\"training_data\", \"wb\"))"
      ]
    },
    {
      "cell_type": "code",
      "execution_count": null,
      "metadata": {
        "id": "DZ2WbA0NtYth"
      },
      "outputs": [],
      "source": [
        "# restore all of our data structures\n",
        "import pickle\n",
        "data = pickle.load( open( \"training_data\", \"rb\" ) )\n",
        "words = data['words']\n",
        "classes = data['classes']\n",
        "train_x = data['train_x']\n",
        "train_y = data['train_y']\n",
        "\n",
        "# import our chat-bot intents file\n",
        "import json\n",
        "with open('intents.json') as json_data:\n",
        "    intents = json.load(json_data)"
      ]
    },
    {
      "cell_type": "code",
      "execution_count": null,
      "metadata": {
        "colab": {
          "base_uri": "https://localhost:8080/"
        },
        "id": "CqK9oU1ttbmh",
        "outputId": "b12afd6a-a581-4bb1-a98f-918bd0e25638"
      },
      "outputs": [
        {
          "output_type": "stream",
          "name": "stdout",
          "text": [
            "Training Step: 5999  | total loss: \u001b[1m\u001b[32m0.00079\u001b[0m\u001b[0m | time: 0.027s\n",
            "| Adam | epoch: 1000 | loss: 0.00079 - acc: 1.0000 -- iter: 40/43\n",
            "Training Step: 6000  | total loss: \u001b[1m\u001b[32m0.00081\u001b[0m\u001b[0m | time: 0.035s\n",
            "| Adam | epoch: 1000 | loss: 0.00081 - acc: 1.0000 -- iter: 43/43\n",
            "--\n"
          ]
        }
      ],
      "source": [
        "# Build neural network\n",
        "net = tflearn.input_data(shape=[None, len(train_x[0])])\n",
        "net = tflearn.fully_connected(net, 8)\n",
        "net = tflearn.fully_connected(net, 8)\n",
        "net = tflearn.fully_connected(net, len(train_y[0]), activation='softmax')\n",
        "net = tflearn.regression(net)\n",
        "\n",
        "# Define model and setup tensorboard\n",
        "model = tflearn.DNN(net, tensorboard_dir='tflearn_logs')\n",
        "\n",
        "# Start training (apply gradient descent algorithm)\n",
        "model.fit(train_x, train_y, batch_size=8, show_metric=True, n_epoch=1000)\n",
        "model.save('model.chatbot')"
      ]
    },
    {
      "cell_type": "code",
      "execution_count": null,
      "metadata": {
        "id": "tR5XA5a0tfVY"
      },
      "outputs": [],
      "source": [
        "def clean_up_sentence(sentence):\n",
        "    # tokenize the pattern\n",
        "    sentence_words = nltk.word_tokenize(sentence)\n",
        "    # stem each word\n",
        "    sentence_words = [stemmer.stem(word.lower()) for word in sentence_words]\n",
        "    return sentence_words\n",
        "\n",
        "# return bag of words array: 0 or 1 for each word in the bag that exists in the sentence\n",
        "def bow(sentence, words, show_details=False):\n",
        "    # tokenize the pattern\n",
        "    sentence_words = clean_up_sentence(sentence)\n",
        "    # bag of words\n",
        "    bag = [0]*len(words)  \n",
        "    for s in sentence_words:\n",
        "        for i,w in enumerate(words):\n",
        "            if w == s: \n",
        "                bag[i] = 1\n",
        "                if show_details:\n",
        "                    print (\"found in bag: %s\" % w)\n",
        "\n",
        "    return(np.array(bag))"
      ]
    },
    {
      "cell_type": "code",
      "execution_count": null,
      "metadata": {
        "colab": {
          "base_uri": "https://localhost:8080/"
        },
        "id": "ZoUQ-FgNthgh",
        "outputId": "d398c1d3-9f35-4528-b011-96b96560bb1c"
      },
      "outputs": [
        {
          "output_type": "stream",
          "name": "stdout",
          "text": [
            "[0 0 0 0 0 0 0 0 0 0 0 0 0 0 0 0 0 0 0 0 0 0 0 0 0 0 0 0 0 0 0 0 0 0 0 0 0\n",
            " 0 0 1 0 0 0 0 0 0 0 0 0 0 0 0 0 0 0 1 0 0 0 0 0 0 0 0 0 0 0 0 0 0 0 0 0 0\n",
            " 0 0 0 0 0 0 0 0 0 0 0 0 0 1 0]\n",
            "['challenges when connecting to lockdown browser exams', 'connection server blocked', 'contact Kabuo', 'email', 'goodbye', 'greeting', 'hours', 'installing lockdown browser', 'launching lockdown browser', 'moodlelogin', 'respondus', 'student portal', 'thanks', 'video connection timed out', 'zoom']\n"
          ]
        }
      ],
      "source": [
        "p = bow(\"is your Kabuo open today?\", words)\n",
        "print (p)\n",
        "print (classes)"
      ]
    },
    {
      "cell_type": "code",
      "execution_count": null,
      "metadata": {
        "id": "eEMFQfVTtkCs"
      },
      "outputs": [],
      "source": [
        "# load our saved model\n",
        "model.load('model.chatbot')"
      ]
    },
    {
      "cell_type": "code",
      "execution_count": null,
      "metadata": {
        "id": "Nx5s9qxKui3i"
      },
      "outputs": [],
      "source": [
        "# create a data structure to hold user context\n",
        "context = {}\n",
        "\n",
        "ERROR_THRESHOLD = 0.25\n",
        "def classify(sentence):\n",
        "    # generate probabilities from the model\n",
        "    results = model.predict([bow(sentence, words)])[0]\n",
        "    # filter out predictions below a threshold\n",
        "    results = [[i,r] for i,r in enumerate(results) if r>ERROR_THRESHOLD]\n",
        "    # sort by strength of probability\n",
        "    results.sort(key=lambda x: x[1], reverse=True)\n",
        "    return_list = []\n",
        "    for r in results:\n",
        "        return_list.append((classes[r[0]], r[1]))\n",
        "    # return tuple of intent and probability\n",
        "    return return_list\n",
        "\n",
        "def response(sentence, userID='130', show_details=False):\n",
        "    results = classify(sentence)\n",
        "    # if we have a classification then find the matching intent tag\n",
        "    if results:\n",
        "        # loop as long as there are matches to process\n",
        "        while results:\n",
        "            for i in intents['intents']:\n",
        "                # find a tag matching the first result\n",
        "                if i['tag'] == results[0][0]:\n",
        "                    # set context for this intent if necessary\n",
        "                    if 'context_set' in i:\n",
        "                        if show_details: print ('context:', i['context_set'])\n",
        "                        context[userID] = i['context_set']\n",
        "\n",
        "                    # check if this intent is contextual and applies to this user's conversation\n",
        "                    if not 'context_filter' in i or \\\n",
        "                        (userID in context and 'context_filter' in i and i['context_filter'] == context[userID]):\n",
        "                        if show_details: print ('tag:', i['tag'])\n",
        "                        # a random response from the intent\n",
        "                        return print(random.choice(i['responses']))\n",
        "\n",
        "            results.pop(0)\n"
      ]
    },
    {
      "cell_type": "code",
      "execution_count": null,
      "metadata": {
        "colab": {
          "base_uri": "https://localhost:8080/"
        },
        "id": "dCCw0wcKu0Ul",
        "outputId": "bd4d9320-1296-4417-a8c6-f9e0c21d9a32"
      },
      "outputs": [
        {
          "output_type": "execute_result",
          "data": {
            "text/plain": [
              "[('goodbye', 0.49331892), ('greeting', 0.32445595)]"
            ]
          },
          "metadata": {},
          "execution_count": 15
        }
      ],
      "source": [
        "classify('is KABUO open today?')"
      ]
    },
    {
      "cell_type": "code",
      "source": [
        "response(\"Hi\")"
      ],
      "metadata": {
        "colab": {
          "base_uri": "https://localhost:8080/"
        },
        "id": "4-7z0ZxTAF2_",
        "outputId": "98717e1a-19a5-404b-cdea-e594ad14e29c"
      },
      "execution_count": null,
      "outputs": [
        {
          "output_type": "stream",
          "name": "stdout",
          "text": [
            "Hello, thanks for visiting\n"
          ]
        }
      ]
    },
    {
      "cell_type": "code",
      "source": [
        "response(\"My zoom!!\")"
      ],
      "metadata": {
        "colab": {
          "base_uri": "https://localhost:8080/"
        },
        "id": "5bW55q1PALQV",
        "outputId": "4960735d-4c96-41b1-d6d9-5f93b33fc9c4"
      },
      "execution_count": null,
      "outputs": [
        {
          "output_type": "stream",
          "name": "stdout",
          "text": [
            "LockDown Browser is the “gold standard” for securing online exams in classrooms or proctored environments.\n"
          ]
        }
      ]
    },
    {
      "cell_type": "code",
      "source": [
        "response(\"What is Lockdown\")"
      ],
      "metadata": {
        "colab": {
          "base_uri": "https://localhost:8080/"
        },
        "id": "PwbqlJjtDQQX",
        "outputId": "c15aa77e-b287-4346-b761-f6ce5d6d4b9b"
      },
      "execution_count": null,
      "outputs": [
        {
          "output_type": "stream",
          "name": "stdout",
          "text": [
            "LockDown Browser is the “gold standard” for securing online exams in classrooms or proctored environments.\n"
          ]
        }
      ]
    },
    {
      "cell_type": "code",
      "source": [
        "response(\"zoom\")"
      ],
      "metadata": {
        "id": "VxSdRnsgw2UA",
        "outputId": "0a41edd3-b940-4d3e-fdf2-1f27f69eea02",
        "colab": {
          "base_uri": "https://localhost:8080/"
        }
      },
      "execution_count": null,
      "outputs": [
        {
          "output_type": "stream",
          "name": "stdout",
          "text": [
            "Hi there, how can I help you?\n"
          ]
        }
      ]
    },
    {
      "cell_type": "code",
      "source": [
        "response(\"I cannot login to moodle\")"
      ],
      "metadata": {
        "id": "5tmTNSf8xur_",
        "outputId": "c534a23a-eb1c-498e-914d-b56f2e0b0c94",
        "colab": {
          "base_uri": "https://localhost:8080/"
        }
      },
      "execution_count": null,
      "outputs": [
        {
          "output_type": "stream",
          "name": "stdout",
          "text": [
            "Please reset your password and check your school email\n"
          ]
        }
      ]
    },
    {
      "cell_type": "code",
      "source": [
        "response(\"zoom\")"
      ],
      "metadata": {
        "id": "9ntfE5yhymAF",
        "outputId": "a8e713b2-7f61-4452-a1db-8ce8c50251a5",
        "colab": {
          "base_uri": "https://localhost:8080/"
        }
      },
      "execution_count": null,
      "outputs": [
        {
          "output_type": "stream",
          "name": "stdout",
          "text": [
            "Hi there, how can I help you?\n"
          ]
        }
      ]
    },
    {
      "cell_type": "code",
      "source": [
        "response(\"My video is hanging\")"
      ],
      "metadata": {
        "id": "GDHtU_A90uTZ",
        "outputId": "16f74fb7-c330-41e5-841c-c455b8f3ef67",
        "colab": {
          "base_uri": "https://localhost:8080/"
        }
      },
      "execution_count": null,
      "outputs": [
        {
          "output_type": "stream",
          "name": "stdout",
          "text": [
            "Change your internet connection\n"
          ]
        }
      ]
    },
    {
      "cell_type": "code",
      "source": [
        "response(\"My video is hanging\")"
      ],
      "metadata": {
        "id": "2AJZnYct1Awv",
        "outputId": "c53dd9da-a4fa-4674-8e59-4c2875932c20",
        "colab": {
          "base_uri": "https://localhost:8080/"
        }
      },
      "execution_count": null,
      "outputs": [
        {
          "output_type": "stream",
          "name": "stdout",
          "text": [
            "Check your internet connection \n"
          ]
        }
      ]
    },
    {
      "cell_type": "code",
      "source": [
        "response(\"I cannot login to moodle\")"
      ],
      "metadata": {
        "id": "yELaMxT437lu",
        "outputId": "e2e74bd9-a5a1-495f-baed-220ff193d5eb",
        "colab": {
          "base_uri": "https://localhost:8080/"
        }
      },
      "execution_count": null,
      "outputs": [
        {
          "output_type": "stream",
          "name": "stdout",
          "text": [
            "Please reset your password and check your school email\n"
          ]
        }
      ]
    },
    {
      "cell_type": "code",
      "source": [
        "response(\"cant login\")"
      ],
      "metadata": {
        "id": "ByPgEZm04JIm",
        "outputId": "055b804b-1fa9-42f2-c859-33e1f89bb562",
        "colab": {
          "base_uri": "https://localhost:8080/"
        }
      },
      "execution_count": null,
      "outputs": [
        {
          "output_type": "stream",
          "name": "stdout",
          "text": [
            "credentials registration number\n"
          ]
        }
      ]
    },
    {
      "cell_type": "code",
      "source": [
        "response(\"Hi\")"
      ],
      "metadata": {
        "id": "ONmy5ald41w1",
        "outputId": "8c923686-bb26-40cb-8607-4da18f788d04",
        "colab": {
          "base_uri": "https://localhost:8080/"
        }
      },
      "execution_count": null,
      "outputs": [
        {
          "output_type": "stream",
          "name": "stdout",
          "text": [
            "Good to see you again\n"
          ]
        }
      ]
    },
    {
      "cell_type": "code",
      "source": [
        "response(\"connection has timed out\")"
      ],
      "metadata": {
        "id": "PDG2DTOmYf5q",
        "outputId": "2f3682a3-3a14-40d0-93cd-0a9d3c0facd7",
        "colab": {
          "base_uri": "https://localhost:8080/"
        }
      },
      "execution_count": null,
      "outputs": [
        {
          "output_type": "stream",
          "name": "stdout",
          "text": [
            "Check your internet connection \n"
          ]
        }
      ]
    },
    {
      "cell_type": "code",
      "source": [
        "response(\"connection has timed out\")"
      ],
      "metadata": {
        "id": "N2PpCBcKYeNO",
        "outputId": "3817cde1-e30d-4157-8ba6-392ddfb35a34",
        "colab": {
          "base_uri": "https://localhost:8080/"
        }
      },
      "execution_count": null,
      "outputs": [
        {
          "output_type": "stream",
          "name": "stdout",
          "text": [
            "Change your internet connection\n"
          ]
        }
      ]
    },
    {
      "cell_type": "code",
      "source": [
        "response(\"connection has timed out\")"
      ],
      "metadata": {
        "id": "kUmeZjRxY8Fa",
        "outputId": "9d3c98fe-3268-45c5-ac8c-78fdbad1f23c",
        "colab": {
          "base_uri": "https://localhost:8080/"
        }
      },
      "execution_count": null,
      "outputs": [
        {
          "output_type": "stream",
          "name": "stdout",
          "text": [
            "Change your internet connection\n"
          ]
        }
      ]
    },
    {
      "cell_type": "code",
      "source": [
        "response(\"connection has timed out\")"
      ],
      "metadata": {
        "id": "B7MAdpT1ZEnf",
        "outputId": "e1b70b34-78d7-4462-f047-fea5c06a2d71",
        "colab": {
          "base_uri": "https://localhost:8080/"
        }
      },
      "execution_count": null,
      "outputs": [
        {
          "output_type": "stream",
          "name": "stdout",
          "text": [
            "Check your internet connection \n"
          ]
        }
      ]
    },
    {
      "cell_type": "code",
      "source": [
        "response(\"my lockdown browser page is stuck\")"
      ],
      "metadata": {
        "id": "SHESFBvjZT_3",
        "outputId": "e61dc0de-20c3-4f0e-a068-e1007ff36969",
        "colab": {
          "base_uri": "https://localhost:8080/"
        }
      },
      "execution_count": null,
      "outputs": [
        {
          "output_type": "stream",
          "name": "stdout",
          "text": [
            "Restart your lock down browser\n"
          ]
        }
      ]
    },
    {
      "cell_type": "code",
      "source": [
        "response(\"my lockdown browser page is stuck\")"
      ],
      "metadata": {
        "id": "aPbs-x2dZeww",
        "outputId": "cab57d7e-fd09-4d5c-ef22-7b132f2bc688",
        "colab": {
          "base_uri": "https://localhost:8080/"
        }
      },
      "execution_count": null,
      "outputs": [
        {
          "output_type": "stream",
          "name": "stdout",
          "text": [
            "Restart your computer \n"
          ]
        }
      ]
    },
    {
      "cell_type": "code",
      "source": [
        "response(\"moodle is stuck\")"
      ],
      "metadata": {
        "id": "EXpkh-7OZueg",
        "outputId": "6d2f4bdd-fab3-46ba-9667-9674fee5dd7d",
        "colab": {
          "base_uri": "https://localhost:8080/"
        }
      },
      "execution_count": null,
      "outputs": [
        {
          "output_type": "stream",
          "name": "stdout",
          "text": [
            "Please reset your password and check your school email\n"
          ]
        }
      ]
    },
    {
      "cell_type": "code",
      "source": [
        "response(\"cant access moodle cat\")"
      ],
      "metadata": {
        "id": "3tWRhRZoayuJ",
        "outputId": "2f93fd3b-8ed0-4d38-fd1e-fb3b023279a0",
        "colab": {
          "base_uri": "https://localhost:8080/"
        }
      },
      "execution_count": null,
      "outputs": [
        {
          "output_type": "stream",
          "name": "stdout",
          "text": [
            "share phone number\n"
          ]
        }
      ]
    },
    {
      "cell_type": "code",
      "source": [
        "response(\"new version of respondus lockdown\")"
      ],
      "metadata": {
        "id": "Xj3D3t2pbk-0",
        "outputId": "b4366384-7daa-4afe-ec13-f50dd1b72ce7",
        "colab": {
          "base_uri": "https://localhost:8080/"
        }
      },
      "execution_count": null,
      "outputs": [
        {
          "output_type": "stream",
          "name": "stdout",
          "text": [
            "LockDown Browser® is a custom browser that locks down the testing environment within a learning management system.\n"
          ]
        }
      ]
    },
    {
      "cell_type": "code",
      "source": [
        "response(\"new version of respondus lockdown\")"
      ],
      "metadata": {
        "id": "YpKo44vCcjlH",
        "outputId": "b9fd5095-c94b-4b7f-f549-9a135c406c56",
        "colab": {
          "base_uri": "https://localhost:8080/"
        }
      },
      "execution_count": null,
      "outputs": [
        {
          "output_type": "stream",
          "name": "stdout",
          "text": [
            "LockDown Browser® is a custom browser that locks down the testing environment within a learning management system.\n"
          ]
        }
      ]
    },
    {
      "cell_type": "code",
      "source": [
        "response(\"moodle update\")"
      ],
      "metadata": {
        "id": "hbze28s2crl2",
        "outputId": "a32e29b3-c765-4a80-a3f2-8ac4fbed1ab6",
        "colab": {
          "base_uri": "https://localhost:8080/"
        }
      },
      "execution_count": null,
      "outputs": [
        {
          "output_type": "stream",
          "name": "stdout",
          "text": [
            "share phone number\n"
          ]
        }
      ]
    }
  ],
  "metadata": {
    "colab": {
      "provenance": [],
      "include_colab_link": true
    },
    "kernelspec": {
      "display_name": "Python 3",
      "name": "python3"
    },
    "language_info": {
      "name": "python"
    }
  },
  "nbformat": 4,
  "nbformat_minor": 0
}